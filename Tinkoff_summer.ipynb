{
 "cells": [
  {
   "cell_type": "markdown",
   "metadata": {},
   "source": [
    "# 1"
   ]
  },
  {
   "cell_type": "code",
   "execution_count": 359,
   "metadata": {},
   "outputs": [
    {
     "name": "stdout",
     "output_type": "stream",
     "text": [
      "8\n",
      "30\n",
      "6\n",
      "Yes\n"
     ]
    }
   ],
   "source": [
    "def groups(a, b, n):\n",
    "    if n == 1:\n",
    "        if a > b:\n",
    "            print('Yes')\n",
    "        else:\n",
    "            print('No')\n",
    "    max_a = a\n",
    "    max_b = b\n",
    "    if b % n != 0:\n",
    "        min_b = b // n + 1\n",
    "    else:\n",
    "        min_b = b / n\n",
    "\n",
    "    if n != 1:\n",
    "        if max_a > max_b:\n",
    "            print('Yes')\n",
    "        else:\n",
    "            if max_a > min_b:\n",
    "                print('Yes')\n",
    "            else:\n",
    "                print('No')\n",
    "def main():\n",
    "    a = int(input())\n",
    "    b = int(input())\n",
    "    n = int(input())\n",
    "    groups(a, b, n)\n",
    "    \n",
    "if __name__ == '__main__':\n",
    "    main()"
   ]
  },
  {
   "cell_type": "markdown",
   "metadata": {},
   "source": [
    "# 2"
   ]
  },
  {
   "cell_type": "code",
   "execution_count": 361,
   "metadata": {},
   "outputs": [
    {
     "name": "stdout",
     "output_type": "stream",
     "text": [
      "=\n",
      ">\n",
      ">\n",
      "cab\n",
      "cba\n"
     ]
    }
   ],
   "source": [
    "def comparison(c1, c2, c3):\n",
    "    res = []\n",
    "    if c1 == '<' and c2 == '<':\n",
    "        if c3 == '>':\n",
    "            res = res + ['acb']\n",
    "        elif c3 == '=':\n",
    "            res = res + ['acb'] +  ['abc']\n",
    "        elif c3 == '<':\n",
    "            res = res + ['abc']\n",
    "    if c3 == '>' and c2 == '>':\n",
    "        if c1 == '>':\n",
    "            res = res + ['cba']\n",
    "        elif c1 == '=':\n",
    "            res = res + ['cba'] + ['cab']\n",
    "        elif c1 == '<':\n",
    "            res = res + ['cab']\n",
    "    if c1 == '>' and c3 == '<':\n",
    "        if c2 == '>':\n",
    "            res = res + ['bca']\n",
    "        elif c2 == '=':\n",
    "            res = res + ['bca', 'bac']\n",
    "        elif c2 == '<':\n",
    "            res = res + ['bac']\n",
    "    if c1 == '=' and c2 == '=' and c3 == '=':\n",
    "        res = res +['abc'] + ['acb'] +  ['bac'] + ['bca'] + ['cab'] + ['cba']\n",
    "\n",
    "    if len(res) > 1:\n",
    "        print('\\n'.join(sorted(res)))\n",
    "    else:\n",
    "        print(res[0])\n",
    "def main():\n",
    "    c1 = str(input())\n",
    "    c2 = str(input())\n",
    "    c3 = str(input())\n",
    "    comparison(c1, c2, c3)\n",
    "    \n",
    "if __name__ == '__main__':\n",
    "    main()"
   ]
  },
  {
   "cell_type": "markdown",
   "metadata": {},
   "source": [
    "# 3"
   ]
  },
  {
   "cell_type": "code",
   "execution_count": 166,
   "metadata": {},
   "outputs": [
    {
     "name": "stdout",
     "output_type": "stream",
     "text": [
      "10000000000000233475374563745635370000000012318237817200000\n",
      "21\n"
     ]
    }
   ],
   "source": [
    "def zeros(value):\n",
    "    num = 0\n",
    "    if value % 10 != 0:\n",
    "        print(0)\n",
    "    while value % 10 == 0:\n",
    "        num = value // 10\n",
    "        value //= 10\n",
    "    res = str(num).count('0')\n",
    "    print(res)\n",
    "    \n",
    "def main():\n",
    "    value = int(input())\n",
    "    zeros(value)\n",
    "    \n",
    "if __name__ == '__main__':\n",
    "    main()"
   ]
  },
  {
   "cell_type": "markdown",
   "metadata": {},
   "source": [
    "# 4"
   ]
  },
  {
   "cell_type": "code",
   "execution_count": 1,
   "metadata": {},
   "outputs": [
    {
     "name": "stdout",
     "output_type": "stream",
     "text": [
      "5\n",
      "abcba\n",
      "babab\n",
      "cbabc\n",
      "babab\n",
      "abcba\n"
     ]
    }
   ],
   "source": [
    "def sq_table(n):\n",
    "    m = [[0 for j in range(n)] for i in range(n)]\n",
    "    diag = 97\n",
    "    for i in range(n):\n",
    "        for j in range(i, n):\n",
    "            if i == j:\n",
    "                m[i][i] = diag\n",
    "                m[i][n-i -1] = diag\n",
    "                \n",
    "    for i in range(n):\n",
    "        for j in range(i, n):\n",
    "            if i != j:\n",
    "                if m[i][j] != diag:\n",
    "                    if  m[i + 1][j] == diag or m[i][j - 1] == diag :\n",
    "                        m[i][j] = diag + 1\n",
    "                        m[j][i] = diag + 1\n",
    "                    elif m[i + 1][j] != diag and m[i][j - 1] != diag:\n",
    "                        m[i][j]  = m[i][j - 1] + 1\n",
    "                        m[j][i] = m[i][j - 1] + 1\n",
    "                        if m[i][j - 1] == 122:\n",
    "                            m[i][j]  = 1\n",
    "                            m[j][i] = 1\n",
    "    for el in m:\n",
    "        one = [chr(x) for x in el]\n",
    "        print(''.join(one))\n",
    "\n",
    "def main():\n",
    "    n = int(input())\n",
    "    sq_table(n)\n",
    "    \n",
    "if __name__ == '__main__':\n",
    "    main()"
   ]
  },
  {
   "cell_type": "markdown",
   "metadata": {},
   "source": [
    "## 5"
   ]
  },
  {
   "cell_type": "code",
   "execution_count": 2,
   "metadata": {},
   "outputs": [
    {
     "name": "stdout",
     "output_type": "stream",
     "text": [
      "3 2\n",
      "2\n"
     ]
    }
   ],
   "source": [
    "count = 0\n",
    "def backtracking(index, arrangement, rem, k, n):\n",
    "        global count\n",
    "        if len(arrangement) == n and (rem % k == 0):\n",
    "            count+=1\n",
    "            rem = 0\n",
    "            return\n",
    "        for x in range(1, n + 1):\n",
    "            if x not in arrangement:\n",
    "                arrangement.add(x)\n",
    "                backtracking(index + 1, arrangement, rem + ((index * x) % k), k, n)\n",
    "                arrangement.remove(x)\n",
    "\n",
    "def main():\n",
    "    n, k = input().split()\n",
    "    n, k = int(n), int(k)\n",
    "    backtracking(1, set(), 0, k, n)\n",
    "    print(count)\n",
    "\n",
    "if __name__ == '__main__':\n",
    "    main()\n",
    "    \n",
    "    "
   ]
  },
  {
   "cell_type": "markdown",
   "metadata": {},
   "source": [
    "# 6"
   ]
  },
  {
   "cell_type": "code",
   "execution_count": 482,
   "metadata": {},
   "outputs": [
    {
     "name": "stdout",
     "output_type": "stream",
     "text": [
      "3 24 60 16\n",
      "16 0\n",
      "17 15\n",
      "18 30\n",
      "0 2\n",
      "2 3\n"
     ]
    }
   ],
   "source": [
    "def WorkTrains(n, h, m, k, time):\n",
    "    nex = [0]\n",
    "    for i, j in time[1:]:\n",
    "        diff = (i * m + j) - (time[0][0] * m + time[0][1])\n",
    "        nex.append(diff)\n",
    "\n",
    "    n_ = [x for x in range(1, n + 1)]\n",
    "    zp = list(zip(nex, n_ ))\n",
    "    \n",
    "    res = []\n",
    "    for t in range(int(m / 2)):\n",
    "        count = 0\n",
    "        s = []\n",
    "        for i, j in zp:   \n",
    "            if t == i:\n",
    "                continue\n",
    "            for p in range(int(m / 2), m * h, int(m / 2)):\n",
    "                work = p + k\n",
    "                if work > i:\n",
    "                    s.append(j)\n",
    "                    count+=1\n",
    "                    break\n",
    "                elif work == i:\n",
    "                    count += 0\n",
    "                    break\n",
    "        res.append((t, count, s))\n",
    "        \n",
    "    res = sorted(res, key=lambda x: x[1])\n",
    "    \n",
    "    t_n = ' '.join([str(x) for x in res[0][:2]])\n",
    "    trains = ' '.join([str(x) for x in res[0][2]])\n",
    "    print('{}\\n{}'.format(t_n, trains))\n",
    "\n",
    "def main():\n",
    "    n, h, m, k  = [int(x) for x in input().split()]\n",
    "    time = [[int(x) for x in input().split()] for _ in range(n)]\n",
    "    WorkTrains(n, h, m, k, time)\n",
    "    \n",
    "if __name__ == '__main__':\n",
    "    main()"
   ]
  },
  {
   "cell_type": "markdown",
   "metadata": {},
   "source": [
    "# 7"
   ]
  },
  {
   "cell_type": "code",
   "execution_count": 342,
   "metadata": {},
   "outputs": [
    {
     "name": "stdout",
     "output_type": "stream",
     "text": [
      "4 3 \n",
      "4 3 2 1\n",
      "4\n"
     ]
    }
   ],
   "source": [
    "def num_groups(n, k, arr):\n",
    "    \n",
    "    dp = [[0 for i in range(n)] \n",
    "\n",
    "             for i in range(k)]\n",
    "\n",
    "    for i in range(n):\n",
    "\n",
    "        dp[0][i] = 1\n",
    "\n",
    "\n",
    "    for l in range(1, k):\n",
    "\n",
    "        for i in range(l, n):\n",
    "\n",
    "            dp[l][i] = 0\n",
    "\n",
    "            for j in range(l - 1, i):\n",
    "\n",
    "                if (arr[j] > arr[i]):\n",
    "\n",
    "                    dp[l][i] += dp[l - 1][j]\n",
    "    num = 0\n",
    "\n",
    "    for i in range(k - 1, n):\n",
    "\n",
    "        num += dp[k - 1][i]\n",
    "    return num % (10**9 + 7)\n",
    "\n",
    "def main():\n",
    "    n, k = [int(x) for x in input().split()]\n",
    "    arr = list(map(int, input().split()))\n",
    "    print(num_groups(n, k, arr))\n",
    "    \n",
    "if __name__ == '__main__':\n",
    "    main()"
   ]
  }
 ],
 "metadata": {
  "kernelspec": {
   "display_name": "Python 3",
   "language": "python",
   "name": "python3"
  },
  "language_info": {
   "codemirror_mode": {
    "name": "ipython",
    "version": 3
   },
   "file_extension": ".py",
   "mimetype": "text/x-python",
   "name": "python",
   "nbconvert_exporter": "python",
   "pygments_lexer": "ipython3",
   "version": "3.8.5"
  }
 },
 "nbformat": 4,
 "nbformat_minor": 4
}
